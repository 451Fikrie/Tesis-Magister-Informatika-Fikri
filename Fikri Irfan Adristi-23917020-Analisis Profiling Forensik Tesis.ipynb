{
  "nbformat": 4,
  "nbformat_minor": 0,
  "metadata": {
    "colab": {
      "provenance": []
    },
    "kernelspec": {
      "name": "python3",
      "display_name": "Python 3"
    },
    "language_info": {
      "name": "python"
    }
  },
  "cells": [
    {
      "cell_type": "markdown",
      "source": [
        "# Analisis Profiling Forensik Tesis\n",
        "### Nama: Fikri Irfan Adristi\n",
        "### NIM: 23917020\n",
        "### Program Studi Informatika Progam Magister Universitas Islam Indonesia"
      ],
      "metadata": {
        "id": "4HSTfYXJElUN"
      }
    },
    {
      "cell_type": "markdown",
      "source": [
        "# Import Packages & Load Dataset"
      ],
      "metadata": {
        "id": "A-8c-qZ_vt3w"
      }
    },
    {
      "cell_type": "code",
      "execution_count": null,
      "metadata": {
        "colab": {
          "base_uri": "https://localhost:8080/"
        },
        "id": "aXO-hUHGq3nb",
        "outputId": "6c794d67-23ff-4482-c427-56b4275d5a35"
      },
      "outputs": [
        {
          "output_type": "stream",
          "name": "stdout",
          "text": [
            "Mounted at /content/gdrive\n"
          ]
        }
      ],
      "source": [
        "# Import Packages\n",
        "from google.colab import drive\n",
        "import pandas as pd\n",
        "\n",
        "# Mount Google Drive\n",
        "drive.mount('/content/gdrive')"
      ]
    },
    {
      "cell_type": "code",
      "source": [
        "# Load datasets from Google Drive\n",
        "altenen_data = pd.read_excel('/content/gdrive/MyDrive/Tesis Fikri/Dataset Tesis/Data Altenen Porn Section.xlsx')\n",
        "astradumps_data = pd.read_excel('/content/gdrive/MyDrive/Tesis Fikri/Dataset Tesis/Data Astradumps.xlsx')\n",
        "cracking_tutorial_data = pd.read_excel('/content/gdrive/MyDrive/Tesis Fikri/Dataset Tesis/Data Carding.Store Cracking Tutorial Section.xlsx')\n",
        "money_heist = pd.read_excel('/content/gdrive/MyDrive/Tesis Fikri/Dataset Tesis/Data Money-Heist.xlsx')"
      ],
      "metadata": {
        "id": "jox6nYLerOEX"
      },
      "execution_count": null,
      "outputs": []
    },
    {
      "cell_type": "markdown",
      "source": [
        "# Inisialisasi Scripting"
      ],
      "metadata": {
        "id": "5gWqnm1gvuvW"
      }
    },
    {
      "cell_type": "code",
      "source": [
        "# Data Pre-processing Viewer\n",
        "def data_preprocessing_viewer(data, dataset_name):\n",
        "    print(f\"\\n=== {dataset_name} ===\")\n",
        "    print(\"\\nInfo:\")\n",
        "    print(data.info())\n",
        "    print(\"\\nMissing Values:\")\n",
        "    print(data.isnull().sum())\n",
        "    print(\"\\nDuplicated Rows:\")\n",
        "    print(data[data.duplicated()])"
      ],
      "metadata": {
        "id": "8_rVpLITu5s-"
      },
      "execution_count": null,
      "outputs": []
    },
    {
      "cell_type": "code",
      "source": [
        "# Profiling Altenen Porn Section\n",
        "def profile_altenen(data):\n",
        "    print(\"\\n=== Altenen Porn Section ===\")\n",
        "    print(\"Columns:\", data.columns)\n",
        "    print(\"Summary:\\n\", data.describe(include='all'))\n",
        "    print(\"Top Thread Writers:\", data['Thread Writer Member'].value_counts().head(5))\n",
        "    print(\"Most Active Threads:\", data[['Thread', 'Replies', 'Views']].sort_values(by=['Replies', 'Views'], ascending=False).head(5))"
      ],
      "metadata": {
        "id": "H7EK4pKzrmMW"
      },
      "execution_count": null,
      "outputs": []
    },
    {
      "cell_type": "code",
      "source": [
        "# Profiling Astradumps\n",
        "def profile_astradumps(data):\n",
        "    print(\"\\n=== Astradumps ===\")\n",
        "    print(\"Columns:\", data.columns)\n",
        "    print(\"Summary:\\n\", data.describe(include='all'))\n",
        "    print(\"Top Categories:\", data['Product Categories'].value_counts().head(5))\n",
        "    print(\"Most Expensive Items:\\n\", data.sort_values(by='Price', ascending=False).head(5))"
      ],
      "metadata": {
        "id": "v1o3VnCProae"
      },
      "execution_count": null,
      "outputs": []
    },
    {
      "cell_type": "code",
      "source": [
        "# Profiling Carding.Store Cracking Tutorial Section\n",
        "def profile_cracking_tutorial(data):\n",
        "    print(\"\\n=== Cracking Tutorial Section ===\")\n",
        "    print(\"Columns:\", data.columns)\n",
        "    print(\"Summary:\\n\", data.describe(include='all'))\n",
        "    print(\"Top Thread Writers:\", data['First Thread Writer'].value_counts().head(5))\n",
        "    print(\"Most Viewed Threads:\\n\", data[['Thread Title', 'Views']].sort_values(by='Views', ascending=False).head(5))"
      ],
      "metadata": {
        "id": "6qsETP2Wrp5d"
      },
      "execution_count": null,
      "outputs": []
    },
    {
      "cell_type": "code",
      "source": [
        "# Profiling Money-Heist\n",
        "def profile_money_heist(data):\n",
        "    print(\"\\n=== Money-Heist ===\")\n",
        "    print(\"Columns:\", data.columns)  # Untuk memastikan kolom yang benar\n",
        "    print(\"Summary:\\n\", data.describe(include='all'))  # Menampilkan ringkasan\n",
        "    print(\"Top Categories:\", data['Categories'].value_counts().head(5))  # Top 5 kategori\n",
        "    print(\"Most Expensive Items:\\n\", data.sort_values(by='Price', ascending=False).head(5))  # Item termahal"
      ],
      "metadata": {
        "id": "QwvQYVxIrr9O"
      },
      "execution_count": null,
      "outputs": []
    },
    {
      "cell_type": "markdown",
      "source": [
        "# Melakukan Pre-preprocessing untuk Setiap Dataset"
      ],
      "metadata": {
        "id": "3ENy2Yolvg--"
      }
    },
    {
      "cell_type": "code",
      "source": [
        "data_preprocessing_viewer(altenen_data, \"Altenen Porn Section\")"
      ],
      "metadata": {
        "colab": {
          "base_uri": "https://localhost:8080/"
        },
        "id": "5OtRrTjSu79F",
        "outputId": "90549d7b-4b1e-4141-8716-adab6ea8bb30"
      },
      "execution_count": null,
      "outputs": [
        {
          "output_type": "stream",
          "name": "stdout",
          "text": [
            "\n",
            "=== Altenen Porn Section ===\n",
            "\n",
            "Info:\n",
            "<class 'pandas.core.frame.DataFrame'>\n",
            "RangeIndex: 14391 entries, 0 to 14390\n",
            "Data columns (total 6 columns):\n",
            " #   Column                Non-Null Count  Dtype \n",
            "---  ------                --------------  ----- \n",
            " 0   Thread                14387 non-null  object\n",
            " 1   Rating & Votes        14391 non-null  object\n",
            " 2   Replies               14391 non-null  object\n",
            " 3   Views                 14391 non-null  object\n",
            " 4   Time Published        14391 non-null  object\n",
            " 5   Thread Writer Member  14391 non-null  object\n",
            "dtypes: object(6)\n",
            "memory usage: 674.7+ KB\n",
            "None\n",
            "\n",
            "Missing Values:\n",
            "Thread                  4\n",
            "Rating & Votes          0\n",
            "Replies                 0\n",
            "Views                   0\n",
            "Time Published          0\n",
            "Thread Writer Member    0\n",
            "dtype: int64\n",
            "\n",
            "Duplicated Rows:\n",
            "                                                  Thread Rating & Votes  \\\n",
            "20            Statewins collection snapchat hacked drops                  \n",
            "2117   ??[Porn LEAK] ?? [K2S / TZ] Camshow – webcamre...                  \n",
            "2123   ?YOUNG TEEN?+18 Best onion secret sites with p...                  \n",
            "3020          Fresh Amateur Leaked | DAILY CONTENT +16GB                  \n",
            "3021   THICK 18 YEAR OLD GIRLS | SNAPCHAT AND ONLYFAN...                  \n",
            "3022            HOT TEEN 18+ | ONLYFANS AMATEUR TEEN +18                  \n",
            "3023      NEW TEEN GIRL | EXCLUSIVE folders | Snap Leaks                  \n",
            "3024   🔥NEW AMATEUR TEEN GIRL | SNAPLEK [SNLK306] SPE...                  \n",
            "3025   😘NEW AMATEUR TEEN😘 STATEWIN GIRLS PACK [STW324...                  \n",
            "3026       UN!QU£ AM#T£UR T££N P#CK - 0NLYT££NPACK OTP04                  \n",
            "3600       [PRIVATE] ONLYPACK PORNO | Full Onlyfans Leak                  \n",
            "3601                       ⭐⭐ HOT ⭐⭐PRIVATE NUDES LEAKED                  \n",
            "3602      STAT3W!N5 L3AK COLLECTION American Teen Leaked                  \n",
            "3603   🫰🏻 NEW AMATEUR PACK 🫰🏻 SNAP TEN'S LEAK [SNLK29...                  \n",
            "3604   🪩 NEW AMATEUR TEEN 🪩 STATEWIN GIRL PACK - STW3...                  \n",
            "4730        SEXIEST GIRLS 6+ IN ONE COLLECTION LEAK PACK                  \n",
            "5889          BEST FREE WEBSITE ONLYFANS NUDE LEAKS 2024                  \n",
            "5907                                          Hot Pron 🔞                  \n",
            "7860         18+ TEEN SLUTS LEAK LATEST COLLECTION PACKS                  \n",
            "7861                XHAMSTER ACCOUNTS ✅ FRESH ACCOUNTS ✅                  \n",
            "7862   Amateur Girls - Pics & Vids nudes private link...                  \n",
            "7863            [MEGA] 10 H0T CİVİÇ SNAPCHAT SIZINTILARI                  \n",
            "7864     YOUNG CUTE GIRLS NUDES [GOOGLE DRIVE] @1njector                  \n",
            "7865          [MEGA] SUPER EXCLUSIVE PPVS SNAPCHAT LEAKS                  \n",
            "7866    Best website to nudify pictures full HD quality.                  \n",
            "7867           GORGEOUS TEEN ] YOUNG COLLEGE GIRL #TLP24                  \n",
            "7868             👅 🍆 🍑 💦 HOT CREAMPIE COLLECTION 👅 🍆 🍑 💦                  \n",
            "7869   【MEGA】✨ SUPER HOT ⛔⚠️⛔ SEXY THICK SLUTTY TEEN⛔...                  \n",
            "7870   [LEAKED] MISSNICOLETE - SKINNY BRUNETTE TEEN(1...                  \n",
            "7871             [MEGA]⭐️CUTE TEEN 🔞 ARAB GIRLS #2 NEW⭐️                  \n",
            "7872           [MEGA] 5GB+ TEEN Hacked Snapchat Leaks ❤️                  \n",
            "7873   [#55] [700 GB MEGA LEAK OF TEENS MILFS GETTING...                  \n",
            "7874   [78GB]❤️MEGA.NZ❤️❄️EMA MAGNOLIA❄️⭐SEXIEST REDH...                  \n",
            "7875   ❤ [MEGA] ✨ HUGE SNAP PACK NOT YET SEEN ⭐ VARIE...                  \n",
            "7876   [✨⛔MEGA FOLDER⛔✨] BIG TITS GIRL TAKE IT FAST [...                  \n",
            "7877          •⭐ THEREALBRITTFIT LEAK⭐• MEGA ⚡ @1NJECTOR                  \n",
            "7878   ⭐[MEGA.NZ]⭐ ❤️ YOUNG TEEN COSPLAYING ONLYFANS ...                  \n",
            "7879   { MEGA.NZ } OVER 2GB UNSATURATED FEMALE NUDES ...                  \n",
            "14002                            BEAUTIFUL NAKED GIRLS!!                  \n",
            "\n",
            "            Replies       Views    Time Published Thread Writer Member  \n",
            "20       Replies\\n0  Views\\n235  Today at 3:11 PM              RushWay  \n",
            "2117     Replies\\n0  Views\\n221       Oct 6, 2024              Bambo45  \n",
            "2123     Replies\\n0  Views\\n224       Oct 6, 2024              Bambo45  \n",
            "3020     Replies\\n0  Views\\n226      Sep 17, 2024              RushWay  \n",
            "3021     Replies\\n0  Views\\n230      Sep 17, 2024              RushWay  \n",
            "3022     Replies\\n0  Views\\n222      Sep 17, 2024        QuickPhantasm  \n",
            "3023     Replies\\n0  Views\\n223      Sep 17, 2024        QuickPhantasm  \n",
            "3024     Replies\\n2  Views\\n233      Sep 17, 2024             table000  \n",
            "3025     Replies\\n3  Views\\n252      Sep 17, 2024             table000  \n",
            "3026     Replies\\n0  Views\\n218      Sep 17, 2024              Ninjavu  \n",
            "3600     Replies\\n0  Views\\n224       Sep 5, 2024              RushWay  \n",
            "3601     Replies\\n0  Views\\n229       Sep 5, 2024              Ninjavu  \n",
            "3602     Replies\\n0  Views\\n224       Sep 5, 2024              Ninjavu  \n",
            "3603     Replies\\n0  Views\\n233       Sep 5, 2024               Rokosm  \n",
            "3604     Replies\\n0  Views\\n236       Sep 5, 2024               Rokosm  \n",
            "4730     Replies\\n0  Views\\n231       Aug 8, 2024              Ninjavu  \n",
            "5889     Replies\\n0  Views\\n223       Jul 4, 2024              zerefdz  \n",
            "5907     Replies\\n0  Views\\n232       Jul 4, 2024         godzallicash  \n",
            "7860     Replies\\n9  Views\\n312      Apr 23, 2024                MrDST  \n",
            "7861    Replies\\n27  Views\\n533      Apr 22, 2024           ALconto998  \n",
            "7862     Replies\\n4  Views\\n261      Apr 22, 2024         KILWAZOLDYCK  \n",
            "7863     Replies\\n5  Views\\n284      Apr 22, 2024         KILWAZOLDYCK  \n",
            "7864   Replies\\n203   Views\\n2K      Apr 22, 2024            bebo2001m  \n",
            "7865     Replies\\n2  Views\\n262      Apr 22, 2024         KILWAZOLDYCK  \n",
            "7866    Replies\\n79   Views\\n1K      Apr 22, 2024              bode632  \n",
            "7867     Replies\\n7  Views\\n274      Apr 22, 2024       youssefchbest1  \n",
            "7868    Replies\\n13  Views\\n357      Apr 22, 2024          YeorgiPG222  \n",
            "7869     Replies\\n3  Views\\n255      Apr 22, 2024                  bev  \n",
            "7870     Replies\\n0  Views\\n233      Apr 22, 2024         GhostlyGamer  \n",
            "7871   Replies\\n439   Views\\n4K      Apr 21, 2024             Karadayi  \n",
            "7872    Replies\\n23  Views\\n486      Apr 21, 2024             Meedoo17  \n",
            "7873   Replies\\n224   Views\\n2K      Apr 21, 2024               ardavs  \n",
            "7874     Replies\\n3  Views\\n237      Apr 21, 2024            Arthbaron  \n",
            "7875    Replies\\n72  Views\\n920      Apr 21, 2024                Idksk  \n",
            "7876    Replies\\n18  Views\\n309      Apr 21, 2024              FREEFOX  \n",
            "7877    Replies\\n12  Views\\n345      Apr 21, 2024                 igmo  \n",
            "7878    Replies\\n12  Views\\n317      Apr 21, 2024             xkirit0x  \n",
            "7879   Replies\\n509   Views\\n5K      Apr 21, 2024             Adelikee  \n",
            "14002    Replies\\n0  Views\\n319       Dec 5, 2020                nnnn3  \n"
          ]
        }
      ]
    },
    {
      "cell_type": "markdown",
      "source": [
        "Dataset Altenen Porn Section berisi 14.387 entri untuk kolom *Thread* dan 14.391 entri untuk 5 kolom sisanya, yaitu *Rating & Votes, Replies, Views, Time Published, *dan *Thread Writer Member*. Kolom *Thread* memiliki 4 nilai yang hilang, namun hal ini tidak mempengaruhi kualitas analisis karena lebih fokus pada pemrosesan teks dengan teknik NLP LDA, yang dapat menangani kekosongan data dalam konteks tersebut. Semua kolom lainnya tidak memiliki nilai yang hilang, menunjukkan kelengkapan data yang baik.\n",
        "\n",
        "Kolom R*ating & Votes, Replies,* dan *Views* bertipe *object*, yang menunjukkan bahwa data tersebut berbentuk string. Ini berarti bahwa data tersebut sudah dalam format yang sesuai dengan cara penyimpanan atau tampilan, seperti \"5 stars\" atau \"100 votes\". Oleh karena itu, tipe data ini tidak dapat digunakan untuk analisis infografis. Kolom *Time Published* berisi informasi waktu publikasi dan juga bertipe *object*, namun hal ini dapat tetap dipertahankan dalam format tersebut jika fokus analisis tidak membutuhkan pengelolaan waktu yang lebih mendalam. Kolom *Thread Writer Member* memiliki data yang lengkap dan juga bertipe *object*, yang menunjukkan setiap thread memiliki penulis yang tercatat secara jelas.\n",
        "\n",
        "Data duplikat mencerminkan strategi pengguna meningkatkan visibilitas thread di forum komunitas. Namun, hal ini tidak menjadi masalah karena tetap mendukung analisis LDA terhadap teks pada thread tersebut. Secara keseluruhan, dataset ini memiliki struktur yang baik dan siap untuk analisis lebih lanjut tanpa memerlukan perubahan besar pada tipe data kolom-kolom tertentu."
      ],
      "metadata": {
        "id": "6BHqubA6CrgJ"
      }
    },
    {
      "cell_type": "code",
      "source": [
        "data_preprocessing_viewer(astradumps_data, \"Astradumps\")"
      ],
      "metadata": {
        "colab": {
          "base_uri": "https://localhost:8080/"
        },
        "id": "5V0WLnuvvOOV",
        "outputId": "3bb3a5f9-aac9-4c3b-c599-bde319a9c21a"
      },
      "execution_count": null,
      "outputs": [
        {
          "output_type": "stream",
          "name": "stdout",
          "text": [
            "\n",
            "=== Astradumps ===\n",
            "\n",
            "Info:\n",
            "<class 'pandas.core.frame.DataFrame'>\n",
            "RangeIndex: 400 entries, 0 to 399\n",
            "Data columns (total 4 columns):\n",
            " #   Column              Non-Null Count  Dtype \n",
            "---  ------              --------------  ----- \n",
            " 0   Product Categories  400 non-null    object\n",
            " 1   Name of Item Sold   400 non-null    object\n",
            " 2   Price               400 non-null    int64 \n",
            " 3   Description         400 non-null    object\n",
            "dtypes: int64(1), object(3)\n",
            "memory usage: 12.6+ KB\n",
            "None\n",
            "\n",
            "Missing Values:\n",
            "Product Categories    0\n",
            "Name of Item Sold     0\n",
            "Price                 0\n",
            "Description           0\n",
            "dtype: int64\n",
            "\n",
            "Duplicated Rows:\n",
            "    Product Categories                      Name of Item Sold  Price  \\\n",
            "216  Carded Gift Cards  $700 AUD Amazon Gift Card – AUSTRALIA    150   \n",
            "\n",
            "                                           Description  \n",
            "216  Description\\n$700 AUD Amazon Gift Card – AUSTR...  \n"
          ]
        }
      ]
    },
    {
      "cell_type": "markdown",
      "source": [
        "*Dataset* yang dianalisis terdiri dari 400 baris dan 4 kolom, mencakup informasi terkait kategori produk *(Product Categories)*, nama item yang dijual *(Name of Item Sold)*, harga *(Price)*, dan deskripsi produk *(Description)*. Kolom *Price* bertipe *integer* (int64), sementara kolom lainnya, seperti *Product Categories, Name of Item Sold,* dan *Description*, bertipe objek *(object)*, yang berisi data berupa string.\n",
        "\n",
        "Tidak ditemukan nilai yang hilang *(missing values)* dalam *dataset* ini, yang berarti data ini lengkap dan siap untuk analisis lebih lanjut. *Dataset* ini juga memiliki ukuran memori sekitar 12.6 KB, menunjukkan bahwa ukuran data relatif kecil dan dapat dengan mudah diproses dalam memori komputer.\n",
        "\n",
        "Dalam hal duplikasi, baris ke-216 menunjukkan adanya entri yang sama untuk kategori produk \"Carded Gift Cards\" dengan nama item \"$700 AUD Amazon Gift Card – AUSTRALIA\" dan harga 150. Hal ini mencerminkan fakta bahwa produk yang sama dapat terdaftar lebih dari sekali di website Astradumps. Karena produk ini memang muncul lebih dari satu kali dalam platform tersebut, data duplikat ini dianggap valid dan tidak perlu dihapus.\n",
        "\n",
        "Secara keseluruhan, dataset ini menyajikan informasi yang lengkap dan representatif mengenai produk yang dijual di website tersebut, dengan kolom bertipe objek yang dapat digunakan untuk analisis berbasis teks seperti *Latent Dirichlet Allocation* (LDA) untuk identifikasi pola dan topik, sementara kolom harga yang bertipe *integer* dapat dipakai untuk membuat infografis terkait distribusi harga produk yang dijual."
      ],
      "metadata": {
        "id": "DT66VEZ09NRg"
      }
    },
    {
      "cell_type": "code",
      "source": [
        "data_preprocessing_viewer(cracking_tutorial_data, \"Cracking Tutorial Section\")"
      ],
      "metadata": {
        "colab": {
          "base_uri": "https://localhost:8080/"
        },
        "id": "4XnCSU-fvPw9",
        "outputId": "b82a30e1-9b03-4df5-bf07-d48a23dba3c2"
      },
      "execution_count": null,
      "outputs": [
        {
          "output_type": "stream",
          "name": "stdout",
          "text": [
            "\n",
            "=== Cracking Tutorial Section ===\n",
            "\n",
            "Info:\n",
            "<class 'pandas.core.frame.DataFrame'>\n",
            "RangeIndex: 1030 entries, 0 to 1029\n",
            "Data columns (total 5 columns):\n",
            " #   Column                Non-Null Count  Dtype \n",
            "---  ------                --------------  ----- \n",
            " 0   Thread Title          1030 non-null   object\n",
            " 1   First Thread Writer   1030 non-null   object\n",
            " 2   Replies               1030 non-null   int64 \n",
            " 3   Views                 1030 non-null   int64 \n",
            " 4   Second Thread Writer  1030 non-null   object\n",
            "dtypes: int64(2), object(3)\n",
            "memory usage: 40.4+ KB\n",
            "None\n",
            "\n",
            "Missing Values:\n",
            "Thread Title            0\n",
            "First Thread Writer     0\n",
            "Replies                 0\n",
            "Views                   0\n",
            "Second Thread Writer    0\n",
            "dtype: int64\n",
            "\n",
            "Duplicated Rows:\n",
            "Empty DataFrame\n",
            "Columns: [Thread Title, First Thread Writer, Replies, Views, Second Thread Writer]\n",
            "Index: []\n"
          ]
        }
      ]
    },
    {
      "cell_type": "markdown",
      "source": [
        "*Dataset* Cracking Tutorial Section terdiri dari 1.030 entri dengan 5 kolom, yaitu *Thread Title, First Thread Writer, Replies, Views,* dan *Second Thread Writer*. Semua kolom tidak memiliki nilai yang hilang, sehingga dataset ini lengkap dan siap digunakan untuk analisis. Kolom Thread Title berisi judul-judul thread yang dapat dianalisis menggunakan LDA *(Latent Dirichlet Allocation)* untuk mengidentifikasi topik atau tema utama yang dibahas dalam tutorial cracking.\n",
        "\n",
        "Kolom *First Thread Writer* dan *Second Thread Writer* menyediakan informasi tentang penulis thread, yang dapat dimanfaatkan untuk menganalisis pola kontribusi penulis atau kolaborasi di antara mereka. Kolom *Replies* dan *Views*, yang bertipe data *integer*, dapat dimanfaatkan untuk mengidentifikasi pola diskusi atau popularitas *thread* dalam bentuk infografis.\n",
        "\n",
        "Dengan dataset yang *clean* dan lengkap, setiap kolom dalam Cracking Tutorial Section dapat mendukung analisis untuk memahami tren diskusi, popularitas topik, serta pola kontribusi komunitas di *platform* tersebut."
      ],
      "metadata": {
        "id": "JXT3M4Ku9uJS"
      }
    },
    {
      "cell_type": "code",
      "source": [
        "data_preprocessing_viewer(money_heist, \"Money-Heist\")"
      ],
      "metadata": {
        "colab": {
          "base_uri": "https://localhost:8080/"
        },
        "id": "6rNgX_5svQ8d",
        "outputId": "c8fc12f6-b8f4-4ff4-a90f-51eb11b5cd09"
      },
      "execution_count": null,
      "outputs": [
        {
          "output_type": "stream",
          "name": "stdout",
          "text": [
            "\n",
            "=== Money-Heist ===\n",
            "\n",
            "Info:\n",
            "<class 'pandas.core.frame.DataFrame'>\n",
            "RangeIndex: 229 entries, 0 to 228\n",
            "Data columns (total 4 columns):\n",
            " #   Column             Non-Null Count  Dtype \n",
            "---  ------             --------------  ----- \n",
            " 0   Categories         229 non-null    object\n",
            " 1   Name of Item Sold  229 non-null    object\n",
            " 2   Price              229 non-null    int64 \n",
            " 3   Description        229 non-null    object\n",
            "dtypes: int64(1), object(3)\n",
            "memory usage: 7.3+ KB\n",
            "None\n",
            "\n",
            "Missing Values:\n",
            "Categories           0\n",
            "Name of Item Sold    0\n",
            "Price                0\n",
            "Description          0\n",
            "dtype: int64\n",
            "\n",
            "Duplicated Rows:\n",
            "Empty DataFrame\n",
            "Columns: [Categories, Name of Item Sold, Price, Description]\n",
            "Index: []\n"
          ]
        }
      ]
    },
    {
      "cell_type": "markdown",
      "source": [
        "*Dataset* Money-Heist terdiri dari 229 baris dan 4 kolom, yang mencakup kategori produk *(Categories)*, nama item yang dijual *(Name of Item Sold)*, harga *(Price)*, dan deskripsi produk *(Description)*. Kolom *Price* bertipe *integer* (int64), sementara kolom lainnya—*Categories, Name of Item Sold,* dan *Description*—bertipe objek *(object)*, yang berisi data berupa *string*.\n",
        "\n",
        "Tidak ada nilai yang hilang *(missing values)* dalam *dataset* ini, yang menandakan bahwa semua data terisi dengan lengkap dan siap untuk dianalisis lebih lanjut. Ukuran memori yang digunakan oleh *dataset* ini adalah sekitar 7.3 KB, yang mengindikasikan bahwa *dataset* ini relatif kecil dan dapat diproses dengan efisien.\n",
        "\n",
        "Dalam hal duplikasi, tidak ditemukan baris yang terduplikasi, yang berarti bahwa setiap entri dalam *dataset* ini adalah unik dan tidak ada redundansi data.\n",
        "\n",
        "Terkait dengan analisis lebih lanjut, kolom *Categories, Name of Item Sold,* dan *Description* yang bertipe objek *(string)* dapat digunakan untuk analisis berbasis teks, seperti *Latent Dirichlet Allocation* (LDA), yang dapat mengidentifikasi pola dan topik tersembunyi dalam data produk yang dijual. Sementara itu, kolom *Price* yang bertipe *integer* dapat dimanfaatkan untuk membuat infografis terkait distribusi harga produk, yang dapat membantu menggambarkan variasi harga berdasarkan kategori atau produk tertentu.\n",
        "\n",
        "Secara keseluruhan, dataset ini menawarkan informasi yang lengkap dan dapat digunakan untuk berbagai jenis analisis, baik berbasis teks (LDA) untuk menemukan topik atau tren produk yang muncul, maupun berbasis data numerik (infografis) untuk memahami distribusi harga produk yang dijual."
      ],
      "metadata": {
        "id": "JV_B9lD3-RjL"
      }
    },
    {
      "cell_type": "markdown",
      "source": [
        "# Melakukan Profiling untuk Setiap Dataset"
      ],
      "metadata": {
        "id": "7PMy8Lj8sA4d"
      }
    },
    {
      "cell_type": "code",
      "source": [
        "profile_altenen(altenen_data)"
      ],
      "metadata": {
        "colab": {
          "base_uri": "https://localhost:8080/"
        },
        "id": "4ml3Sj0lr76W",
        "outputId": "bde320a2-5ac3-4240-a24e-5c78272bf8a6"
      },
      "execution_count": null,
      "outputs": [
        {
          "output_type": "stream",
          "name": "stdout",
          "text": [
            "\n",
            "=== Altenen Porn Section ===\n",
            "Columns: Index(['Thread', 'Rating & Votes', 'Replies', 'Views', 'Time Published',\n",
            "       'Thread Writer Member'],\n",
            "      dtype='object')\n",
            "Summary:\n",
            "                                                    Thread Rating & Votes  \\\n",
            "count                                               14387          14391   \n",
            "unique                                              13390            481   \n",
            "top     ⭐[MEGA]⭐⎝❤️REAL GIRLS PACK LEAK GIRLS PRIVATE ...                  \n",
            "freq                                                   18          10907   \n",
            "\n",
            "           Replies      Views Time Published Thread Writer Member  \n",
            "count        14391      14391          14391                14391  \n",
            "unique         717        818           1826                 5693  \n",
            "top     Replies\\n0  Views\\n1K   Dec 15, 2022         GhostlyGamer  \n",
            "freq          2266       1010             94                  332  \n",
            "Top Thread Writers: Thread Writer Member\n",
            "GhostlyGamer     332\n",
            "Ninjavu          264\n",
            "huju66           241\n",
            "QuickPhantasm    230\n",
            "RushWay          197\n",
            "Name: count, dtype: int64\n",
            "Most Active Threads:                                                   Thread       Replies  \\\n",
            "6535                       Busty Blonde Milf Gets Railed  Replies\\n997   \n",
            "2308                    ⛔ REAL MOM LEAKED [SUPER PACK] ⛔  Replies\\n995   \n",
            "5713     ⚡️❤️ LEAKED TEEN SNAPCHAT VIDEOS ❤️⚡️ @1njector   Replies\\n99   \n",
            "12940  TEEN GIRL WITH THE BIGGEST TITS NUDE VIDEOS LE...   Replies\\n99   \n",
            "12528          MULTIPLE TEEN SLUTS SNAPCHAT NUDES LEAKED   Replies\\n99   \n",
            "\n",
            "            Views  \n",
            "6535    Views\\n3K  \n",
            "2308    Views\\n9K  \n",
            "5713   Views\\n989  \n",
            "12940  Views\\n980  \n",
            "12528  Views\\n971  \n"
          ]
        }
      ]
    },
    {
      "cell_type": "markdown",
      "source": [
        "Hasil analisis menunjukkan bahwa kolom Thread memiliki tingkat keberagaman yang tinggi dengan 13.390 entri unik dari 14.387 total thread. Thread dengan judul menarik seperti \"⭐[MEGA]⭐⎝❤️REAL GIRLS PACK LEAK GIRLS PRIVATE...\" adalah yang paling sering muncul.\n",
        "\n",
        "Kolom Rating & Votes sebagian besar kosong atau tidak digunakan secara informatif, karena lebih dari 75% entri berasal dari kategori \"kosong.\"\n",
        "\n",
        "Kolom Replies dan Views didominasi oleh beberapa entri populer seperti \"Replies 997\" dan \"Views 3K.\" Meski ada variasi, pola aktivitas menunjukkan preferensi terhadap konten yang eksplisit dan bersifat \"sensasi.\"\n",
        "\n",
        "Penulis thread terbanyak adalah GhostlyGamer dengan kontribusi 332 thread, diikuti oleh Ninjavu (264) dan lainnya. Adanya thread yang sangat aktif seperti \"Busty Blonde Milf Gets Railed\" menunjukkan korelasi tinggi antara jumlah thread populer dan topik tertentu.\n",
        "\n",
        "*Thread* populer memiliki jumlah balasan dan jumlah tampilan yang signifikan, menjadikannya pusat perhatian pengguna. Beberapa judul *thread* bahkan menunjukkan upaya eksplisit dalam menarik audiens dengan gaya *clickbait*.\n",
        "\n",
        "Secara keseluruhan, hasil ini menyoroti pola kontribusi komunitas dalam kategori ini yang bisa dimanfaatkan untuk analisis lebih lanjut dengan *Natural Language Processing* (NLP) guna mengungkap pola, tren, dan potensi aktivitas ilegal di forum ini."
      ],
      "metadata": {
        "id": "1QF0xux0A486"
      }
    },
    {
      "cell_type": "code",
      "source": [
        "profile_astradumps(astradumps_data)"
      ],
      "metadata": {
        "colab": {
          "base_uri": "https://localhost:8080/"
        },
        "id": "WFZJ9XcWsFpV",
        "outputId": "d52be7e2-2053-4607-834f-ca630e9a7547"
      },
      "execution_count": null,
      "outputs": [
        {
          "output_type": "stream",
          "name": "stdout",
          "text": [
            "\n",
            "=== Astradumps ===\n",
            "Columns: Index(['Product Categories', 'Name of Item Sold', 'Price', 'Description'], dtype='object')\n",
            "Summary:\n",
            "        Product Categories                                  Name of Item Sold  \\\n",
            "count                 400                                                400   \n",
            "unique                 24                                                392   \n",
            "top           Bank Logins  USA NON-VBV CARDS (CREDIT/DEBIT CARD) + FREE C...   \n",
            "freq                  103                                                  2   \n",
            "mean                  NaN                                                NaN   \n",
            "std                   NaN                                                NaN   \n",
            "min                   NaN                                                NaN   \n",
            "25%                   NaN                                                NaN   \n",
            "50%                   NaN                                                NaN   \n",
            "75%                   NaN                                                NaN   \n",
            "max                   NaN                                                NaN   \n",
            "\n",
            "               Price                                        Description  \n",
            "count     400.000000                                                400  \n",
            "unique           NaN                                                398  \n",
            "top              NaN  Description\\nNEWLY ITALY CC + CVV + INFO  $50K...  \n",
            "freq             NaN                                                  2  \n",
            "mean      863.832500                                                NaN  \n",
            "std      2667.089616                                                NaN  \n",
            "min         0.000000                                                NaN  \n",
            "25%       217.500000                                                NaN  \n",
            "50%       300.000000                                                NaN  \n",
            "75%       550.000000                                                NaN  \n",
            "max     45700.000000                                                NaN  \n",
            "Top Categories: Product Categories\n",
            "Bank Logins           103\n",
            "Accounts               62\n",
            "CVV and Cards          44\n",
            "Bank Drops             38\n",
            "Guides & Tutorials     25\n",
            "Name: count, dtype: int64\n",
            "Most Expensive Items:\n",
            "          Product Categories  \\\n",
            "346          Money Transfer   \n",
            "65                ATM Cards   \n",
            "234        CashApp Transfer   \n",
            "340          Money Transfer   \n",
            "395  Western Union Transfer   \n",
            "\n",
            "                                     Name of Item Sold  Price  \\\n",
            "346  Get $500000 Bank Transfer with Instant Credit ...  45700   \n",
            "65            Buy $200000 Cloned ATM card with Balance  10000   \n",
            "234                       Get $100000 CashApp Transfer   9750   \n",
            "340  Get $100000 Bank Transfer with Instant Credit ...   9200   \n",
            "395                            GET $100000 WU TRANSFER   8750   \n",
            "\n",
            "                                           Description  \n",
            "346  Description\\nGet $500000 Bank Transfer with In...  \n",
            "65   Description\\nBuy $200000 Cloned ATM card with ...  \n",
            "234  Description\\nGet $100000 CashApp Transfer\\n\\nO...  \n",
            "340  Description\\nGet $100000 Bank Transfer with In...  \n",
            "395  Description\\nGET $100,000 WU TRANSFER\\n\\nWe do...  \n"
          ]
        }
      ]
    },
    {
      "cell_type": "markdown",
      "source": [
        "Dataset Astradumps terdiri dari 400 baris dan 4 kolom yang mencakup kategori produk *(Product Categories)*, nama item yang dijual *(Name of Item Sold)*, harga *(Price)*, dan deskripsi produk *(Description)*. Kolom *Price* memiliki nilai numerik, dengan harga rata-rata sebesar 863,83; yang menunjukkan bahwa harga produk bervariasi cukup luas, dengan harga terendah sebesar 0 dan harga tertinggi mencapai 45.700. Kolom *Product Categories* berisi 24 kategori unik, dengan kategori yang paling banyak muncul adalah \"*Bank Logins*\" yang ditemukan 103 kali, diikuti oleh \"*Accounts*\" sebanyak 62 kali dan \"*CVV and Cards*\" sebanyak 44 kali.\n",
        "\n",
        "Kolom *Name of Item Sold* mencatat 392 item unik, dengan item yang paling sering muncul adalah \"USA NON-VBV CARDS (CREDIT/DEBIT CARD) + FREE C...\", yang ditemukan 2 kali. Kolom *Description* juga mencatat 398 deskripsi unik, dengan deskripsi yang paling sering muncul berkaitan dengan \"NEWLY ITALY CC + CVV + INFO $50K\". Dataset ini tidak memiliki nilai yang hilang, sehingga dapat langsung digunakan untuk analisis lebih lanjut.\n",
        "\n",
        "Terkait dengan harga produk, beberapa produk dengan harga tertinggi ditemukan, seperti \"Get $500000 Bank Transfer with Instant Credit\" yang dihargai 45.700, \"Buy $200000 Cloned ATM card with Balance\" seharga 10.000, dan produk lain yang mencakup layanan transfer uang dan kartu ATM dengan harga tinggi. Dengan data harga ini, kita bisa mengidentifikasi produk-produk premium yang mungkin menarik untuk analisis lebih mendalam, termasuk pola harga dalam kategori tertentu.\n",
        "\n",
        "Secara keseluruhan, dataset ini memberikan gambaran yang jelas tentang produk yang dijual di website Astradumps, baik dari segi kategori, harga, maupun deskripsi produk, yang bisa digunakan untuk analisis lebih lanjut mengenai tren penjualan dan harga."
      ],
      "metadata": {
        "id": "SAjRndAjDDuT"
      }
    },
    {
      "cell_type": "code",
      "source": [
        "profile_cracking_tutorial(cracking_tutorial_data)"
      ],
      "metadata": {
        "colab": {
          "base_uri": "https://localhost:8080/"
        },
        "id": "gufwlhIBsJmV",
        "outputId": "30e01c12-b08d-45e9-ae11-637f262ed51f"
      },
      "execution_count": null,
      "outputs": [
        {
          "output_type": "stream",
          "name": "stdout",
          "text": [
            "\n",
            "=== Cracking Tutorial Section ===\n",
            "Columns: Index(['Thread Title', 'First Thread Writer', 'Replies', 'Views',\n",
            "       'Second Thread Writer'],\n",
            "      dtype='object')\n",
            "Summary:\n",
            "        Thread Title First Thread Writer      Replies         Views  \\\n",
            "count          1030                1030  1030.000000   1030.000000   \n",
            "unique          999                 472          NaN           NaN   \n",
            "top       [supreme]             JuNaiD™          NaN           NaN   \n",
            "freq             16                  43          NaN           NaN   \n",
            "mean            NaN                 NaN    73.105825   3802.318447   \n",
            "std             NaN                 NaN   185.255135   7421.333137   \n",
            "min             NaN                 NaN     0.000000    522.000000   \n",
            "25%             NaN                 NaN     3.000000    832.000000   \n",
            "50%             NaN                 NaN    19.000000   1409.000000   \n",
            "75%             NaN                 NaN    70.000000   3747.000000   \n",
            "max             NaN                 NaN  2630.000000  98202.000000   \n",
            "\n",
            "       Second Thread Writer  \n",
            "count                  1030  \n",
            "unique                  883  \n",
            "top                 JuNaiD™  \n",
            "freq                     19  \n",
            "mean                    NaN  \n",
            "std                     NaN  \n",
            "min                     NaN  \n",
            "25%                     NaN  \n",
            "50%                     NaN  \n",
            "75%                     NaN  \n",
            "max                     NaN  \n",
            "Top Thread Writers: First Thread Writer\n",
            "JuNaiD™    43\n",
            "Like it    41\n",
            "Lincoln    33\n",
            "upgruad    28\n",
            "Merged     27\n",
            "Name: count, dtype: int64\n",
            "Most Viewed Threads:\n",
            "                                           Thread Title  Views\n",
            "34   Netflix Cracking Tutorial For Beginners (FAST ...  98202\n",
            "213  HQ TUTORIAL FOR HQ COMBO MAKING WITH SQLI DUMP...  74219\n",
            "93   [Tutorial] HOW TO CRACK NETFLIX PREMIUM ACCOUN...  70251\n",
            "185                 [EASY] GIFTCARD Cracking Tutorial   69672\n",
            "11   How to make a Combolist - The professional met...  61133\n"
          ]
        }
      ]
    },
    {
      "cell_type": "markdown",
      "source": [
        "*Dataset* Cracking Tutorial Section mencakup 1.030 entri yang terdiri dari lima kolom: judul thread *(Thread Title)*, penulis *thread* pertama *(First Thread Writer)*, jumlah balasan *(Replies)*, jumlah tampilan *(Views)*, dan penulis *thread* kedua *(Second Thread Writer)*. Kolom *Replies* memiliki rata-rata 73,11 balasan per *thread*, dengan variasi yang cukup besar, mulai dari 0 hingga 2.630 balasan. Kolom *Views* menunjukkan rata-rata 3.802 tampilan per *thread*, dengan beberapa *thread* yang mendapatkan tampilan yang sangat tinggi, bahkan mencapai 98.202 tampilan, menunjukkan bahwa topik tertentu memiliki daya tarik yang jauh lebih besar dibandingkan yang lainnya.\n",
        "\n",
        "Kolom *First Thread Writer* mencatat bahwa penulis yang paling aktif adalah \"JuNaiD™\", yang menulis 43 *thread*, diikuti oleh \"Like it\" dengan 41 *thread* dan penulis lainnya dengan jumlah *thread* yang lebih sedikit. Hal ini menunjukkan bahwa beberapa penulis memiliki kontribusi yang lebih besar dalam menciptakan konten dalam forum ini. Kolom *Second Thread Writer* mencatat 883 penulis unik, dengan \"JuNaiD™\" juga mencatatkan frekuensi tertinggi di kolom ini, yang menunjukkan kontribusi signifikan dari penulis tersebut pada *thread-thread* yang ditulis oleh orang lain.\n",
        "\n",
        "Dalam analisis ini, kita dapat melihat bahwa ada sejumlah *thread* dengan jumlah tampilan yang sangat tinggi, seperti \"Netflix Cracking Tutorial For Beginners (FAST...)\" yang mendapatkan 98.202 tampilan, yang dapat menarik perhatian lebih dalam analisis popularitas dan dampak topik yang dibahas. Dengan demikian, informasi ini memberikan gambaran yang jelas tentang dinamika penulisan *thread* dan interaksi dalam forum *tutorial cracking*, yang dapat digunakan untuk mengidentifikasi konten yang paling populer dan penulis yang paling produktif."
      ],
      "metadata": {
        "id": "QExEmQGZFXgq"
      }
    },
    {
      "cell_type": "code",
      "source": [
        "profile_money_heist (money_heist)"
      ],
      "metadata": {
        "colab": {
          "base_uri": "https://localhost:8080/"
        },
        "id": "AiTfa-wksOR1",
        "outputId": "a4a21261-291e-4366-97d4-6890059c7db1"
      },
      "execution_count": null,
      "outputs": [
        {
          "output_type": "stream",
          "name": "stdout",
          "text": [
            "\n",
            "=== Money-Heist ===\n",
            "Columns: Index(['Categories', 'Name of Item Sold', 'Price', 'Description'], dtype='object')\n",
            "Summary:\n",
            "                 Categories                                  Name of Item Sold  \\\n",
            "count                  229                                                229   \n",
            "unique                  27                                                214   \n",
            "top     Credit/Debit Cards  ACR38 R4 RFID Smart Contact Chip EMV Card Read...   \n",
            "freq                    46                                                  2   \n",
            "mean                   NaN                                                NaN   \n",
            "std                    NaN                                                NaN   \n",
            "min                    NaN                                                NaN   \n",
            "25%                    NaN                                                NaN   \n",
            "50%                    NaN                                                NaN   \n",
            "75%                    NaN                                                NaN   \n",
            "max                    NaN                                                NaN   \n",
            "\n",
            "               Price                                        Description  \n",
            "count     229.000000                                                229  \n",
            "unique           NaN                                                192  \n",
            "top              NaN  PLEASE READ THIS CAREFULLY \\n\\nDue to receivin...  \n",
            "freq             NaN                                                 15  \n",
            "mean      316.379913                                                NaN  \n",
            "std       723.793739                                                NaN  \n",
            "min        20.000000                                                NaN  \n",
            "25%        40.000000                                                NaN  \n",
            "50%       150.000000                                                NaN  \n",
            "75%       350.000000                                                NaN  \n",
            "max     10000.000000                                                NaN  \n",
            "Top Categories: Categories\n",
            "Credit/Debit Cards     46\n",
            "Dumps                  24\n",
            "Burners                23\n",
            "Carded Products        19\n",
            "Carded E-Gift Cards    17\n",
            "Name: count, dtype: int64\n",
            "Most Expensive Items:\n",
            "               Categories                                  Name of Item Sold  \\\n",
            "14   BTC Mixing Services                 Bitcoin Mixing Service – Worldwide   \n",
            "175             Hardware  GSM DATA RECEIVER + LARGE DISTANCE ANTENNA + E...   \n",
            "6           Atm Skimmers  GSM DATA RECEIVER + LARGE DISTANCE ANTENNA + E...   \n",
            "152                Dumps               $10,000 Dump Card with PIN – DENMARK   \n",
            "154                Dumps        $10,000 Dump Card with PIN – UNITED KINGDOM   \n",
            "\n",
            "     Price                                        Description  \n",
            "14   10000  DESCRIPTION PLEASE READ THIS CAREFULLY We are ...  \n",
            "175   1500  The description GSM DATA RECEIVER + LARGE DIST...  \n",
            "6     1500  DESCRIPTION\\nThe description GSM DATA RECEIVER...  \n",
            "152   1250  PLEASE READ THIS CAREFULLY \\n\\nThis listing is...  \n",
            "154   1250  PLEASE READ THIS CAREFULLY \\n\\nThis listing is...  \n"
          ]
        }
      ]
    },
    {
      "cell_type": "markdown",
      "source": [
        "Dataset Money-Heist berisi 229 entri dengan empat kolom: kategori produk *(Categories)*, nama item yang dijual *(Name of Item Sold)*, harga *(Price)*, dan deskripsi produk *(Description)*. Kolom *Categories* mencatatkan 27 kategori unik, dengan kategori yang paling banyak muncul adalah \"Credit/Debit Cards\" yang tercatat 46 kali, diikuti oleh kategori \"Dumps\" (24 kali) dan \"Burners\" (23 kali). Hal ini menunjukkan bahwa kategori produk tertentu lebih dominan di *platform* ini.\n",
        "\n",
        "Kolom *Name of Item Sold* mencatatkan 214 nama produk unik, dengan produk yang paling sering muncul adalah \"ACR38 R4 RFID Smart Contact Chip EMV Card Reader Writer\", yang terjual dua kali. Rata-rata harga produk dalam dataset ini adalah sekitar 316,38; dengan harga yang bervariasi secara signifikan, mulai dari 20 hingga 10.000, menunjukkan adanya produk dengan harga yang sangat tinggi. Kolom *Description* berisi 192 deskripsi unik, dengan satu deskripsi muncul 15 kali, menunjukkan adanya produk dengan penawaran yang hampir serupa namun berbeda dalam konteks atau detail penawaran.\n",
        "\n",
        "Beberapa item yang paling mahal, seperti \"Bitcoin Mixing Service – Worldwide\" dengan harga 10.000, atau \"GSM DATA RECEIVER + LARGE DISTANCE ANTENNA + EMV\" dengan harga 1.500, menyoroti adanya transaksi dengan nilai tinggi yang terkait dengan produk spesifik, terutama yang terkait dengan layanan dan peralatan untuk kegiatan teknis. Analisis ini menggambarkan variasi produk, harga, dan kategori yang dijual dalam platform tersebut, serta potensi minat dan fokus dari para pembeli dan penjual."
      ],
      "metadata": {
        "id": "VrfjLHJuHOTQ"
      }
    }
  ]
}